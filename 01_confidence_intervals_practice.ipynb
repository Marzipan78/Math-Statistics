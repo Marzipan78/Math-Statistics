{
 "cells": [
  {
   "cell_type": "markdown",
   "metadata": {},
   "source": [
    "# Practice notebook for confidence intervals using NHANES data\n",
    "\n",
    "This notebook will give you the opportunity to practice working with confidence intervals using the NHANES data.\n",
    "\n",
    "You can enter your code into the cells that say \"enter your code here\", and you can type responses to the questions into the cells that say \"Type Markdown and Latex\".\n",
    "\n",
    "Note that most of the code that you will need to write below is very similar to code that appears in the case study notebook.  You will need to edit code from that notebook in small ways to adapt it to the prompts below.\n",
    "\n",
    "To get started, we will use the same module imports and read the data in the same way as we did in the case study:"
   ]
  },
  {
   "cell_type": "code",
   "execution_count": 1,
   "metadata": {},
   "outputs": [],
   "source": [
    "%matplotlib inline\n",
    "import matplotlib.pyplot as plt\n",
    "import pandas as pd\n",
    "import numpy as np\n",
    "import seaborn as sns\n",
    "import statsmodels.api as sm\n",
    "\n",
    "da = pd.read_csv(\"nhanes_2015_2016.csv\")"
   ]
  },
  {
   "cell_type": "markdown",
   "metadata": {},
   "source": [
    "## Question 1\n",
    "\n",
    "Restrict the sample to women between 35 and 50, then use the marital status variable [DMDMARTL](https://wwwn.cdc.gov/Nchs/Nhanes/2015-2016/DEMO_I.htm#DMDMARTL) to partition this sample into two groups - women who are currently married, and women who are not currently married.  Within each of these groups, calculate the proportion of women who have completed college.  Calculate 95% confidence intervals for each of these proportions."
   ]
  },
  {
   "cell_type": "code",
   "execution_count": 91,
   "metadata": {},
   "outputs": [],
   "source": [
    "# enter your code here\n",
    "# females sample dropna?\n",
    "da\n",
    "gender = da[da['RIAGENDRx'] == 'Female']\n",
    "females_sample = gender.sample(n=50)\n",
    "females_sample['DMDMARTLx'] =females_sample.DMDMARTL.replace({1: \"Married\", 2: \"Not_Married\",2: \"Not_Married\",3: \"Not_Married\",4: \"Not_Married\", 5: \"Not_Married\", 6:\"Not_Married\", 77:\"Not_Married\", 99: \"Not_Married\"})"
   ]
  },
  {
   "cell_type": "code",
   "execution_count": 92,
   "metadata": {},
   "outputs": [],
   "source": [
    "females_sample['DMDEDUC2x'] = females_sample.DMDEDUC2.replace({1:\"Not Graduated\", 2:\"Not Graduated\", 3:\"Not Graduated\", 4:\"Not Graduated\", 5:\"Graduated\", 7:\"Not Graduated\",9: \"Not Graduated\"}) \n"
   ]
  },
  {
   "cell_type": "code",
   "execution_count": 93,
   "metadata": {},
   "outputs": [
    {
     "output_type": "execute_result",
     "data": {
      "text/plain": [
       "DMDMARTLx      Married  Not_Married\n",
       "DMDEDUC2x                          \n",
       "Graduated            9            5\n",
       "Not Graduated       14           19"
      ],
      "text/html": "<div>\n<style scoped>\n    .dataframe tbody tr th:only-of-type {\n        vertical-align: middle;\n    }\n\n    .dataframe tbody tr th {\n        vertical-align: top;\n    }\n\n    .dataframe thead th {\n        text-align: right;\n    }\n</style>\n<table border=\"1\" class=\"dataframe\">\n  <thead>\n    <tr style=\"text-align: right;\">\n      <th>DMDMARTLx</th>\n      <th>Married</th>\n      <th>Not_Married</th>\n    </tr>\n    <tr>\n      <th>DMDEDUC2x</th>\n      <th></th>\n      <th></th>\n    </tr>\n  </thead>\n  <tbody>\n    <tr>\n      <td>Graduated</td>\n      <td>9</td>\n      <td>5</td>\n    </tr>\n    <tr>\n      <td>Not Graduated</td>\n      <td>14</td>\n      <td>19</td>\n    </tr>\n  </tbody>\n</table>\n</div>"
     },
     "metadata": {},
     "execution_count": 93
    }
   ],
   "source": [
    "fdf = females_sample[[\"DMDEDUC2x\",\"DMDMARTLx\"]].dropna()\n",
    "fdf \n",
    "pd.crosstab(fdf.DMDEDUC2x,fdf.DMDMARTLx )"
   ]
  },
  {
   "cell_type": "code",
   "execution_count": 94,
   "metadata": {},
   "outputs": [
    {
     "output_type": "execute_result",
     "data": {
      "text/plain": [
       "             Proportion  Total\n",
       "DMDMARTLx                     \n",
       "Married        0.391304     23\n",
       "Not_Married    0.208333     24"
      ],
      "text/html": "<div>\n<style scoped>\n    .dataframe tbody tr th:only-of-type {\n        vertical-align: middle;\n    }\n\n    .dataframe tbody tr th {\n        vertical-align: top;\n    }\n\n    .dataframe thead th {\n        text-align: right;\n    }\n</style>\n<table border=\"1\" class=\"dataframe\">\n  <thead>\n    <tr style=\"text-align: right;\">\n      <th></th>\n      <th>Proportion</th>\n      <th>Total</th>\n    </tr>\n    <tr>\n      <th>DMDMARTLx</th>\n      <th></th>\n      <th></th>\n    </tr>\n  </thead>\n  <tbody>\n    <tr>\n      <td>Married</td>\n      <td>0.391304</td>\n      <td>23</td>\n    </tr>\n    <tr>\n      <td>Not_Married</td>\n      <td>0.208333</td>\n      <td>24</td>\n    </tr>\n  </tbody>\n</table>\n</div>"
     },
     "metadata": {},
     "execution_count": 94
    }
   ],
   "source": [
    "fdz = fdf.groupby(fdf.DMDMARTLx).agg({\"DMDEDUC2x\": [lambda x: np.mean(x==\"Graduated\"), np.size]})\n",
    "fdz.columns = [\"Proportion\", \"Total\"] # The default column names are unclear, so we replace them here\n",
    "fdz"
   ]
  },
  {
   "cell_type": "code",
   "execution_count": 95,
   "metadata": {},
   "outputs": [
    {
     "output_type": "stream",
     "name": "stdout",
     "text": [
      "0.10176384751376008\n0.08289816934939807\n"
     ]
    }
   ],
   "source": [
    "p = fdz.Proportion.Married \n",
    "n = fdz.Total.Married \n",
    "se_Married = np.sqrt(p * (1 - p) / n)\n",
    "print(se_Married)\n",
    "\n",
    "p = fdz.Proportion.Not_Married \n",
    "n = fdz.Total.Not_Married \n",
    "se_Not_Married = np.sqrt(p * (1 - p) / n)\n",
    "print(se_Not_Married)"
   ]
  },
  {
   "cell_type": "code",
   "execution_count": 132,
   "metadata": {},
   "outputs": [
    {
     "output_type": "stream",
     "name": "stdout",
     "text": [
      "0.19184720669911723 0.5907614889530567\n-0.39891428225393943\n"
     ]
    }
   ],
   "source": [
    "p = fdz.Proportion.Married \n",
    "n = fdz.Total.Married \n",
    "lcbM= p - 1.96 * np.sqrt(p * (1 - p) / n)  \n",
    "ucbM = p + 1.96 * np.sqrt(p * (1 - p) / n)  \n",
    "print(lcbM, ucbM)\n",
    "print(lcbM-ucbM)\n"
   ]
  },
  {
   "cell_type": "code",
   "execution_count": 133,
   "metadata": {},
   "outputs": [
    {
     "output_type": "stream",
     "name": "stdout",
     "text": [
      "0.04585292140851313 0.3708137452581536\n-0.3249608238496404\n"
     ]
    }
   ],
   "source": [
    "\n",
    "p = fdz.Proportion.Not_Married \n",
    "n = fdz.Total.Not_Married \n",
    "lcbNM = p - 1.96 * np.sqrt(p * (1 - p) / n)  \n",
    "ucbNM = p + 1.96 * np.sqrt(p * (1 - p) / n)  \n",
    "print(lcbNM, ucbNM)\n",
    "print(lcbNM-ucbNM)"
   ]
  },
  {
   "cell_type": "markdown",
   "metadata": {},
   "source": [
    "__Q1a.__ Identify which of the two confidence intervals is wider, and explain why this is the case. "
   ]
  },
  {
   "source": [
    "Confidence interval for the Married females in wider as opposed to the not Married females. There is a larger proportion of the married females who have completed a college course relative to those who are not married. "
   ],
   "cell_type": "markdown",
   "metadata": {}
  },
  {
   "cell_type": "markdown",
   "metadata": {},
   "source": [
    "__Q1b.__ Write 1-2 sentences summarizing these findings for an audience that does not know what a confidence interval is (the goal here is to report the substance of what you learned about how marital status and educational attainment are related, not to teach a person what a confidence interval is)."
   ]
  },
  {
   "cell_type": "markdown",
   "metadata": {},
   "source": [
    "As seen with the figures above there is a 95% likelihood that 39.1% of the females who are married have graduated with a college degree. That is to say if we ran this test mulitple times 95 times out of 100 we would expect to see such results. The same is for females who are not married and are college graduates. "
   ]
  },
  {
   "cell_type": "markdown",
   "metadata": {},
   "source": [
    "## Question 2\n",
    "\n",
    "Construct 95% confidence intervals for the proportion of smokers who are female, and for the proportion of smokers who are male.  Then construct a 95% confidence interval for the difference between these proportions."
   ]
  },
  {
   "cell_type": "code",
   "execution_count": 104,
   "metadata": {},
   "outputs": [
    {
     "output_type": "execute_result",
     "data": {
      "text/plain": [
       "RIAGENDRx  Female  Male\n",
       "SMQ020x                \n",
       "No           2066  1340\n",
       "Yes           906  1413"
      ],
      "text/html": "<div>\n<style scoped>\n    .dataframe tbody tr th:only-of-type {\n        vertical-align: middle;\n    }\n\n    .dataframe tbody tr th {\n        vertical-align: top;\n    }\n\n    .dataframe thead th {\n        text-align: right;\n    }\n</style>\n<table border=\"1\" class=\"dataframe\">\n  <thead>\n    <tr style=\"text-align: right;\">\n      <th>RIAGENDRx</th>\n      <th>Female</th>\n      <th>Male</th>\n    </tr>\n    <tr>\n      <th>SMQ020x</th>\n      <th></th>\n      <th></th>\n    </tr>\n  </thead>\n  <tbody>\n    <tr>\n      <td>No</td>\n      <td>2066</td>\n      <td>1340</td>\n    </tr>\n    <tr>\n      <td>Yes</td>\n      <td>906</td>\n      <td>1413</td>\n    </tr>\n  </tbody>\n</table>\n</div>"
     },
     "metadata": {},
     "execution_count": 104
    }
   ],
   "source": [
    "# enter your code here\n",
    "da[\"SMQ020x\"] = da.SMQ020.replace({1: \"Yes\", 2: \"No\", 7: np.nan, 9: np.nan})  # np.nan represents a missing value\n",
    "dx = da[[\"SMQ020x\", \"RIAGENDRx\"]].dropna()  # dropna drops cases where either variable is missing\n",
    "pd.crosstab(dx.SMQ020x, dx.RIAGENDRx)\n"
   ]
  },
  {
   "cell_type": "code",
   "execution_count": 105,
   "metadata": {},
   "outputs": [
    {
     "output_type": "execute_result",
     "data": {
      "text/plain": [
       "           Proportion  Total_n\n",
       "RIAGENDRx                     \n",
       "Female       0.304845     2972\n",
       "Male         0.513258     2753"
      ],
      "text/html": "<div>\n<style scoped>\n    .dataframe tbody tr th:only-of-type {\n        vertical-align: middle;\n    }\n\n    .dataframe tbody tr th {\n        vertical-align: top;\n    }\n\n    .dataframe thead th {\n        text-align: right;\n    }\n</style>\n<table border=\"1\" class=\"dataframe\">\n  <thead>\n    <tr style=\"text-align: right;\">\n      <th></th>\n      <th>Proportion</th>\n      <th>Total_n</th>\n    </tr>\n    <tr>\n      <th>RIAGENDRx</th>\n      <th></th>\n      <th></th>\n    </tr>\n  </thead>\n  <tbody>\n    <tr>\n      <td>Female</td>\n      <td>0.304845</td>\n      <td>2972</td>\n    </tr>\n    <tr>\n      <td>Male</td>\n      <td>0.513258</td>\n      <td>2753</td>\n    </tr>\n  </tbody>\n</table>\n</div>"
     },
     "metadata": {},
     "execution_count": 105
    }
   ],
   "source": [
    "dz = dx.groupby(dx.RIAGENDRx).agg({\"SMQ020x\": [lambda x: np.mean(x==\"Yes\"), np.size]})\n",
    "dz.columns = [\"Proportion\", \"Total_n\"] # The default column names are unclear, so we replace them here\n",
    "dz"
   ]
  },
  {
   "cell_type": "code",
   "execution_count": 106,
   "metadata": {},
   "outputs": [
    {
     "output_type": "stream",
     "name": "stdout",
     "text": [
      "0.008444152146214435\n0.009526078653689868\n"
     ]
    }
   ],
   "source": [
    "p = dz.Proportion.Female # Female proportion\n",
    "n = dz.Total_n.Female # Total number of females\n",
    "se_female = np.sqrt(p * (1 - p) / n)\n",
    "print(se_female)\n",
    "\n",
    "p = dz.Proportion.Male # Male proportion\n",
    "n = dz[\"Total_n\"].Male # Total number of males\n",
    "se_male = np.sqrt(p * (1 - p) / n)\n",
    "print(se_male)"
   ]
  },
  {
   "cell_type": "code",
   "execution_count": 107,
   "metadata": {},
   "outputs": [
    {
     "output_type": "stream",
     "name": "stdout",
     "text": [
      "0.288294683866098 0.32139576027925865\n"
     ]
    }
   ],
   "source": [
    "p = dz.Proportion.Female # Female proportion\n",
    "n = dz.Total_n.Female # Total number of females\n",
    "lcb = p - 1.96 * np.sqrt(p * (1 - p) / n)  \n",
    "ucb = p + 1.96 * np.sqrt(p * (1 - p) / n)  \n",
    "print(lcb, ucb)"
   ]
  },
  {
   "cell_type": "code",
   "execution_count": 108,
   "metadata": {},
   "outputs": [
    {
     "output_type": "stream",
     "name": "stdout",
     "text": [
      "0.49458714955108174 0.531929377873546\n"
     ]
    }
   ],
   "source": [
    "p = dz.Proportion.Male # Male proportion\n",
    "n = dz.Total_n.Male # Total number of males\n",
    "lcb = p - 1.96 * np.sqrt(p * (1 - p) / n)  \n",
    "ucb = p + 1.96 * np.sqrt(p * (1 - p) / n)  \n",
    "print(lcb, ucb)"
   ]
  },
  {
   "cell_type": "markdown",
   "metadata": {},
   "source": [
    "__Q2a.__ Discuss why it may be relevant to report the proportions of smokers who are female and male, and contrast this to reporting the proportions of males and females who smoke."
   ]
  },
  {
   "cell_type": "markdown",
   "metadata": {},
   "source": [
    "It is important to distinguish between the two genders as they will skew the results if combined. It will not be a true representation or near true representation of the real world."
   ]
  },
  {
   "cell_type": "markdown",
   "metadata": {},
   "source": [
    "__Q2b.__ How does the width of the confidence interval for the difference of the two proportions compare to the widths of the confidence intervals for each proportion separately?"
   ]
  },
  {
   "cell_type": "markdown",
   "metadata": {},
   "source": []
  },
  {
   "cell_type": "markdown",
   "metadata": {},
   "source": [
    "## Question 3\n",
    "\n",
    "Construct a 95% interval for height ([BMXHT](https://wwwn.cdc.gov/Nchs/Nhanes/2015-2016/BMX_I.htm#BMXHT)) in centimeters.  Then convert height from centimeters to inches by dividing by 2.54, and construct a 95% confidence interval for height in inches.  Finally, convert the endpoints (the lower and upper confidence limits) of the confidence interval from inches to back to centimeters   "
   ]
  },
  {
   "cell_type": "code",
   "execution_count": 112,
   "metadata": {},
   "outputs": [
    {
     "output_type": "execute_result",
     "data": {
      "text/plain": [
       "BMXHT      129.7  136.5  137.4  137.6  137.9  138.4  139.0  139.6  139.9  \\\n",
       "RIAGENDRx                                                                  \n",
       "Female         1      0      1      1      1      1      2      1      1   \n",
       "Male           0      1      0      0      0      0      0      0      0   \n",
       "\n",
       "BMXHT      140.0  ...  193.7  193.8  194.3  194.6  195.1  195.4  195.6  198.4  \\\n",
       "RIAGENDRx         ...                                                           \n",
       "Female         1  ...      0      0      0      0      0      0      0      0   \n",
       "Male           0  ...      1      1      1      1      1      1      1      1   \n",
       "\n",
       "BMXHT      201.0  202.7  \n",
       "RIAGENDRx                \n",
       "Female         0      0  \n",
       "Male           1      1  \n",
       "\n",
       "[2 rows x 509 columns]"
      ],
      "text/html": "<div>\n<style scoped>\n    .dataframe tbody tr th:only-of-type {\n        vertical-align: middle;\n    }\n\n    .dataframe tbody tr th {\n        vertical-align: top;\n    }\n\n    .dataframe thead th {\n        text-align: right;\n    }\n</style>\n<table border=\"1\" class=\"dataframe\">\n  <thead>\n    <tr style=\"text-align: right;\">\n      <th>BMXHT</th>\n      <th>129.7</th>\n      <th>136.5</th>\n      <th>137.4</th>\n      <th>137.6</th>\n      <th>137.9</th>\n      <th>138.4</th>\n      <th>139.0</th>\n      <th>139.6</th>\n      <th>139.9</th>\n      <th>140.0</th>\n      <th>...</th>\n      <th>193.7</th>\n      <th>193.8</th>\n      <th>194.3</th>\n      <th>194.6</th>\n      <th>195.1</th>\n      <th>195.4</th>\n      <th>195.6</th>\n      <th>198.4</th>\n      <th>201.0</th>\n      <th>202.7</th>\n    </tr>\n    <tr>\n      <th>RIAGENDRx</th>\n      <th></th>\n      <th></th>\n      <th></th>\n      <th></th>\n      <th></th>\n      <th></th>\n      <th></th>\n      <th></th>\n      <th></th>\n      <th></th>\n      <th></th>\n      <th></th>\n      <th></th>\n      <th></th>\n      <th></th>\n      <th></th>\n      <th></th>\n      <th></th>\n      <th></th>\n      <th></th>\n      <th></th>\n    </tr>\n  </thead>\n  <tbody>\n    <tr>\n      <td>Female</td>\n      <td>1</td>\n      <td>0</td>\n      <td>1</td>\n      <td>1</td>\n      <td>1</td>\n      <td>1</td>\n      <td>2</td>\n      <td>1</td>\n      <td>1</td>\n      <td>1</td>\n      <td>...</td>\n      <td>0</td>\n      <td>0</td>\n      <td>0</td>\n      <td>0</td>\n      <td>0</td>\n      <td>0</td>\n      <td>0</td>\n      <td>0</td>\n      <td>0</td>\n      <td>0</td>\n    </tr>\n    <tr>\n      <td>Male</td>\n      <td>0</td>\n      <td>1</td>\n      <td>0</td>\n      <td>0</td>\n      <td>0</td>\n      <td>0</td>\n      <td>0</td>\n      <td>0</td>\n      <td>0</td>\n      <td>0</td>\n      <td>...</td>\n      <td>1</td>\n      <td>1</td>\n      <td>1</td>\n      <td>1</td>\n      <td>1</td>\n      <td>1</td>\n      <td>1</td>\n      <td>1</td>\n      <td>1</td>\n      <td>1</td>\n    </tr>\n  </tbody>\n</table>\n<p>2 rows × 509 columns</p>\n</div>"
     },
     "metadata": {},
     "execution_count": 112
    }
   ],
   "source": [
    "# enter your code here\n",
    "px = da[[\"BMXHT\", \"RIAGENDRx\"]].dropna()  # dropna drops cases where either variable is missing\n",
    "pd.crosstab(px.RIAGENDRx,px.BMXHT)\n"
   ]
  },
  {
   "cell_type": "code",
   "execution_count": 116,
   "metadata": {},
   "outputs": [
    {
     "output_type": "execute_result",
     "data": {
      "text/plain": [
       "                BMXHT\n",
       "RIAGENDRx            \n",
       "Female     159.673184\n",
       "Male       173.132050"
      ],
      "text/html": "<div>\n<style scoped>\n    .dataframe tbody tr th:only-of-type {\n        vertical-align: middle;\n    }\n\n    .dataframe tbody tr th {\n        vertical-align: top;\n    }\n\n    .dataframe thead th {\n        text-align: right;\n    }\n</style>\n<table border=\"1\" class=\"dataframe\">\n  <thead>\n    <tr style=\"text-align: right;\">\n      <th></th>\n      <th>BMXHT</th>\n    </tr>\n    <tr>\n      <th>RIAGENDRx</th>\n      <th></th>\n    </tr>\n  </thead>\n  <tbody>\n    <tr>\n      <td>Female</td>\n      <td>159.673184</td>\n    </tr>\n    <tr>\n      <td>Male</td>\n      <td>173.132050</td>\n    </tr>\n  </tbody>\n</table>\n</div>"
     },
     "metadata": {},
     "execution_count": 116
    }
   ],
   "source": [
    "\n",
    "pz = px.groupby(px.RIAGENDRx).agg({\"BMXHT\":np.mean})\n",
    "pz\n"
   ]
  },
  {
   "cell_type": "code",
   "execution_count": 122,
   "metadata": {},
   "outputs": [
    {
     "output_type": "execute_result",
     "data": {
      "text/plain": [
       "BMXHTx     51.062992  53.740157  54.094488  54.173228  54.291339  54.488189  \\\n",
       "RIAGENDRx                                                                     \n",
       "Female             1          0          1          1          1          1   \n",
       "Male               0          1          0          0          0          0   \n",
       "\n",
       "BMXHTx     54.724409  54.960630  55.078740  55.118110  ...  76.259843  \\\n",
       "RIAGENDRx                                              ...              \n",
       "Female             2          1          1          1  ...          0   \n",
       "Male               0          0          0          0  ...          1   \n",
       "\n",
       "BMXHTx     76.299213  76.496063  76.614173  76.811024  76.929134  77.007874  \\\n",
       "RIAGENDRx                                                                     \n",
       "Female             0          0          0          0          0          0   \n",
       "Male               1          1          1          1          1          1   \n",
       "\n",
       "BMXHTx     78.110236  79.133858  79.803150  \n",
       "RIAGENDRx                                   \n",
       "Female             0          0          0  \n",
       "Male               1          1          1  \n",
       "\n",
       "[2 rows x 509 columns]"
      ],
      "text/html": "<div>\n<style scoped>\n    .dataframe tbody tr th:only-of-type {\n        vertical-align: middle;\n    }\n\n    .dataframe tbody tr th {\n        vertical-align: top;\n    }\n\n    .dataframe thead th {\n        text-align: right;\n    }\n</style>\n<table border=\"1\" class=\"dataframe\">\n  <thead>\n    <tr style=\"text-align: right;\">\n      <th>BMXHTx</th>\n      <th>51.062992</th>\n      <th>53.740157</th>\n      <th>54.094488</th>\n      <th>54.173228</th>\n      <th>54.291339</th>\n      <th>54.488189</th>\n      <th>54.724409</th>\n      <th>54.960630</th>\n      <th>55.078740</th>\n      <th>55.118110</th>\n      <th>...</th>\n      <th>76.259843</th>\n      <th>76.299213</th>\n      <th>76.496063</th>\n      <th>76.614173</th>\n      <th>76.811024</th>\n      <th>76.929134</th>\n      <th>77.007874</th>\n      <th>78.110236</th>\n      <th>79.133858</th>\n      <th>79.803150</th>\n    </tr>\n    <tr>\n      <th>RIAGENDRx</th>\n      <th></th>\n      <th></th>\n      <th></th>\n      <th></th>\n      <th></th>\n      <th></th>\n      <th></th>\n      <th></th>\n      <th></th>\n      <th></th>\n      <th></th>\n      <th></th>\n      <th></th>\n      <th></th>\n      <th></th>\n      <th></th>\n      <th></th>\n      <th></th>\n      <th></th>\n      <th></th>\n      <th></th>\n    </tr>\n  </thead>\n  <tbody>\n    <tr>\n      <td>Female</td>\n      <td>1</td>\n      <td>0</td>\n      <td>1</td>\n      <td>1</td>\n      <td>1</td>\n      <td>1</td>\n      <td>2</td>\n      <td>1</td>\n      <td>1</td>\n      <td>1</td>\n      <td>...</td>\n      <td>0</td>\n      <td>0</td>\n      <td>0</td>\n      <td>0</td>\n      <td>0</td>\n      <td>0</td>\n      <td>0</td>\n      <td>0</td>\n      <td>0</td>\n      <td>0</td>\n    </tr>\n    <tr>\n      <td>Male</td>\n      <td>0</td>\n      <td>1</td>\n      <td>0</td>\n      <td>0</td>\n      <td>0</td>\n      <td>0</td>\n      <td>0</td>\n      <td>0</td>\n      <td>0</td>\n      <td>0</td>\n      <td>...</td>\n      <td>1</td>\n      <td>1</td>\n      <td>1</td>\n      <td>1</td>\n      <td>1</td>\n      <td>1</td>\n      <td>1</td>\n      <td>1</td>\n      <td>1</td>\n      <td>1</td>\n    </tr>\n  </tbody>\n</table>\n<p>2 rows × 509 columns</p>\n</div>"
     },
     "metadata": {},
     "execution_count": 122
    }
   ],
   "source": [
    "#centimeters to inches\n",
    "da[\"BMXHTx\"] = da.BMXHT/2.54\n",
    "pix = da[[\"BMXHTx\", \"RIAGENDRx\"]].dropna()  # dropna drops cases where either variable is missing\n",
    "pd.crosstab(pix.RIAGENDRx,pix.BMXHTx)\n"
   ]
  },
  {
   "cell_type": "code",
   "execution_count": 123,
   "metadata": {},
   "outputs": [
    {
     "output_type": "execute_result",
     "data": {
      "text/plain": [
       "              BMXHTx\n",
       "RIAGENDRx           \n",
       "Female     62.863458\n",
       "Male       68.162224"
      ],
      "text/html": "<div>\n<style scoped>\n    .dataframe tbody tr th:only-of-type {\n        vertical-align: middle;\n    }\n\n    .dataframe tbody tr th {\n        vertical-align: top;\n    }\n\n    .dataframe thead th {\n        text-align: right;\n    }\n</style>\n<table border=\"1\" class=\"dataframe\">\n  <thead>\n    <tr style=\"text-align: right;\">\n      <th></th>\n      <th>BMXHTx</th>\n    </tr>\n    <tr>\n      <th>RIAGENDRx</th>\n      <th></th>\n    </tr>\n  </thead>\n  <tbody>\n    <tr>\n      <td>Female</td>\n      <td>62.863458</td>\n    </tr>\n    <tr>\n      <td>Male</td>\n      <td>68.162224</td>\n    </tr>\n  </tbody>\n</table>\n</div>"
     },
     "metadata": {},
     "execution_count": 123
    }
   ],
   "source": [
    "piz = pix.groupby(pix.RIAGENDRx).agg({\"BMXHTx\":np.mean})\n",
    "piz\n"
   ]
  },
  {
   "cell_type": "code",
   "execution_count": 125,
   "metadata": {},
   "outputs": [
    {
     "output_type": "execute_result",
     "data": {
      "text/plain": [
       "(159.41341564918525, 159.932952307366)"
      ]
     },
     "metadata": {},
     "execution_count": 125
    }
   ],
   "source": [
    "#CI for cm\n",
    "female_height = da.loc[da.RIAGENDRx==\"Female\", \"BMXHT\"].dropna()\n",
    "sm.stats.DescrStatsW(female_height).zconfint_mean()"
   ]
  },
  {
   "cell_type": "code",
   "execution_count": 126,
   "metadata": {},
   "outputs": [
    {
     "output_type": "execute_result",
     "data": {
      "text/plain": [
       "(172.83801745601892, 173.42608228728875)"
      ]
     },
     "metadata": {},
     "execution_count": 126
    }
   ],
   "source": [
    "male_height = da.loc[da.RIAGENDRx==\"Male\", \"BMXHT\"].dropna()\n",
    "sm.stats.DescrStatsW(male_height).zconfint_mean()"
   ]
  },
  {
   "cell_type": "code",
   "execution_count": 129,
   "metadata": {},
   "outputs": [
    {
     "output_type": "execute_result",
     "data": {
      "text/plain": [
       "(62.761187263458766, 62.965729254868506)"
      ]
     },
     "metadata": {},
     "execution_count": 129
    }
   ],
   "source": [
    "#CI for inches\n",
    "female_height_in = da.loc[da.RIAGENDRx==\"Female\", \"BMXHTx\"].dropna()\n",
    "sm.stats.DescrStatsW(female_height_in).zconfint_mean()"
   ]
  },
  {
   "cell_type": "code",
   "execution_count": 131,
   "metadata": {},
   "outputs": [
    {
     "output_type": "execute_result",
     "data": {
      "text/plain": [
       "(68.04646356536176, 68.27798515247588)"
      ]
     },
     "metadata": {},
     "execution_count": 131
    }
   ],
   "source": [
    "male_height_in = da.loc[da.RIAGENDRx==\"Male\", \"BMXHTx\"].dropna()\n",
    "sm.stats.DescrStatsW(male_height_in).zconfint_mean()"
   ]
  },
  {
   "cell_type": "markdown",
   "metadata": {},
   "source": [
    "__Q3a.__ Describe how the confidence interval constructed in centimeters relates to the confidence interval constructed in inches."
   ]
  },
  {
   "cell_type": "markdown",
   "metadata": {},
   "source": [
    "They should be similar as the one in inches is just a scalar division of 2.54 that of the on in cm"
   ]
  },
  {
   "cell_type": "markdown",
   "metadata": {},
   "source": [
    "## Question 4\n",
    "\n",
    "Partition the sample based on 10-year age bands, i.e. the resulting groups will consist of people with ages from 18-28, 29-38, etc. Construct 95% confidence intervals for the difference between the mean BMI for females and for males within each age band."
   ]
  },
  {
   "cell_type": "code",
   "execution_count": null,
   "metadata": {},
   "outputs": [],
   "source": [
    "# enter your code here"
   ]
  },
  {
   "cell_type": "markdown",
   "metadata": {},
   "source": [
    "__Q4a.__ How do the widths of these confidence intervals differ?  Provide an explanation for any substantial diferences in the confidence interval widths that you see."
   ]
  },
  {
   "cell_type": "markdown",
   "metadata": {},
   "source": []
  },
  {
   "cell_type": "markdown",
   "metadata": {},
   "source": [
    "## Question 5\n",
    "\n",
    "Construct a 95% confidence interval for the first and second systolic blood pressure measures, and for the difference between the first and second systolic blood pressure measurements within a subject."
   ]
  },
  {
   "cell_type": "code",
   "execution_count": null,
   "metadata": {},
   "outputs": [],
   "source": [
    "# enter code here"
   ]
  },
  {
   "cell_type": "markdown",
   "metadata": {},
   "source": [
    "__Q5a.__ Based on these confidence intervals, would you say that a difference of zero between the population mean values of the first and second systolic blood pressure measures is consistent with the data?"
   ]
  },
  {
   "cell_type": "markdown",
   "metadata": {},
   "source": []
  },
  {
   "cell_type": "markdown",
   "metadata": {},
   "source": [
    "\n",
    "__Q5b.__ Discuss how the width of the confidence interval for the within-subject difference compares to the widths of the confidence intervals for the first and second measures."
   ]
  },
  {
   "cell_type": "markdown",
   "metadata": {},
   "source": []
  },
  {
   "cell_type": "markdown",
   "metadata": {},
   "source": [
    "## Question 6\n",
    "\n",
    "Construct a 95% confidence interval for the mean difference between the average age of a smoker, and the average age of a non-smoker."
   ]
  },
  {
   "cell_type": "code",
   "execution_count": null,
   "metadata": {},
   "outputs": [],
   "source": [
    "# insert your code here"
   ]
  },
  {
   "cell_type": "markdown",
   "metadata": {},
   "source": [
    "__Q6a.__ Use graphical and numerical techniques to compare the variation in the ages of smokers to the variation in the ages of non-smokers.  "
   ]
  },
  {
   "cell_type": "code",
   "execution_count": 1,
   "metadata": {},
   "outputs": [],
   "source": [
    "# insert your code here"
   ]
  },
  {
   "cell_type": "markdown",
   "metadata": {},
   "source": [
    "__Q6b.__ Does it appear that uncertainty about the mean age of smokers, or uncertainty about the mean age of non-smokers contributed more to the uncertainty for the mean difference that we are focusing on here?"
   ]
  },
  {
   "cell_type": "markdown",
   "metadata": {},
   "source": []
  }
 ],
 "metadata": {
  "kernelspec": {
   "display_name": "Python 3",
   "language": "python",
   "name": "python3"
  },
  "language_info": {
   "codemirror_mode": {
    "name": "ipython",
    "version": 3
   },
   "file_extension": ".py",
   "mimetype": "text/x-python",
   "name": "python",
   "nbconvert_exporter": "python",
   "pygments_lexer": "ipython3",
   "version": "3.7.4-final"
  }
 },
 "nbformat": 4,
 "nbformat_minor": 2
}